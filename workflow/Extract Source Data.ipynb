{
 "cells": [
  {
   "cell_type": "markdown",
   "metadata": {},
   "source": [
    "# Pipeline Stage 3\n",
    "The messages in what I called the \"mq_sgcn_items\" message queue contain records from ScienceBase that should have a new file to process. Those files contain names of species that the states/territories consider to be of greatest conservation need. There is some messiness in the data as there are cases where there may not be known scientific names or other information has been added to the spreadsheets that can get in the way of nice, clean processing to align the names with taxonomic authorities and put together other details. The initial processing step that slurps up files is encapsulated in the process_sgcn_source_item function from the pysgcn package. It picks up the messages, reads the specified file via URL into memory, and does some basic processing to harmonize across the slightly variable files as much as possible and infuse a little bit of additional metadata from the root collection item.\n",
    "\n",
    "The two pieces of additional information the function infuses come from files attached to the root collection. These include the following:\n",
    "\n",
    "* An indication of whether the name was included in the 2005 SWAP-based list coming from a master list stored from original processing. This helps us maintain consistency in total counts of species.\n",
    "* A number of names had to be tracked down with a bit of research to assign ITIS TSN identifiers. These serve as overrides to the name matching process.\n",
    "\n",
    "Each dataset can be processed at this stage and stand on its own somewhere. The point here is to get the original data file from ScienceBase, making sure we can read it into memory as a dataframe, infusing the extra information from the reference files stored at the collection, and then stashing the data somewhere online for further processing in later steps. I put all of that logic together into the cache_item_data function that calls the more fundamental processing function, process_sgcn_source_item. The caching function will check the cache when called to make sure the cache is intact and then delete the message if that's the case. Or it will go ahead and fire the processing function to retrieve and process the file and then write it to cache. For this exercise, I cache the data to a folder within the space designated by the DATA_CACHE environment variable as a feather binary file. These are lightweight, fast, and easy to work with across programs. For the online instantiation of this workflow, we will probably want to go ahead and write them to a relational database as we can later assemble them from there into final usable data.\n",
    "\n",
    "I run the process as a while loop on the messages in temporary storage, but this will run as messages that get flushed from the queue as lambdas operate on them.\n",
    "\n",
    "Note: I have experienced some variation in the speed of this step, which seem to track back to ScienceBase variability."
   ]
  },
  {
   "cell_type": "code",
   "execution_count": 1,
   "metadata": {},
   "outputs": [],
   "source": [
    "import pysgcn\n",
    "sgcn = pysgcn.sgcn.Sgcn()"
   ]
  },
  {
   "cell_type": "markdown",
   "metadata": {},
   "source": [
    "After running into a problem that seemed to crop up randomly with urlopen errors on trying to read files directly from ScienceBase, I wrote a function to cache the raw data locally for processing. I use the ScienceBase-generated path on disk for the file name and stash in a configured path. This could be changed to send the files to S3 or some other storage ajacent to the processing engine."
   ]
  },
  {
   "cell_type": "code",
   "execution_count": 2,
   "metadata": {},
   "outputs": [
    {
     "data": {
      "text/plain": [
       "{'files_written': [],\n",
       " 'files_in_cache': ['/Users/sbristol/data/raw/b4aebf82009a2aaadaa4d7b84fdcade7589c722b',\n",
       "  '/Users/sbristol/data/raw/2673b2cbcd76e24a33be947897708d1b5a74f49b',\n",
       "  '/Users/sbristol/data/raw/e9690e1a26d17f001245f4199396cccaea7fb7fe',\n",
       "  '/Users/sbristol/data/raw/e797a83ec94951289141e98776670f989628f250',\n",
       "  '/Users/sbristol/data/raw/9d676d655fb463f971cfe28ffa322a1d493858d4',\n",
       "  '/Users/sbristol/data/raw/6eec7ce1a534122f801f1ca671ce629543bfde66',\n",
       "  '/Users/sbristol/data/raw/e58b61cae166b1965b572e8748189199ad848491',\n",
       "  '/Users/sbristol/data/raw/f3915e1455b3499a00945519fd8867abd7c034e8',\n",
       "  '/Users/sbristol/data/raw/0843ec239115e47e91a2946837546a3c2a61fafc',\n",
       "  '/Users/sbristol/data/raw/6550d55f0af2d0e96e47be64d1c39f508cd33918',\n",
       "  '/Users/sbristol/data/raw/6103e0e72d3f616072e0c5b46d41d0753a51e0de',\n",
       "  '/Users/sbristol/data/raw/f1a6b317c5c33d6077e2db27735a1351a5b87a27',\n",
       "  '/Users/sbristol/data/raw/4bcbd5fd378583d8ab9d2eaa7ca802e0f83441a3',\n",
       "  '/Users/sbristol/data/raw/1b946780c9ede34a6606b67800b62a9bf0ff40e3',\n",
       "  '/Users/sbristol/data/raw/c0880ba1b184a9dbe67344ef69f12c2f04a3fff2',\n",
       "  '/Users/sbristol/data/raw/97a516426a598751d9056ffa0fe3b4456e33530d',\n",
       "  '/Users/sbristol/data/raw/e16323eccceba129076888fcde3e76304f04fd8d',\n",
       "  '/Users/sbristol/data/raw/9967246f45837e4055da61a95b6c3cf5c6a3c357',\n",
       "  '/Users/sbristol/data/raw/7ff930fb1d58864fbf23c17412ed9276233ff482',\n",
       "  '/Users/sbristol/data/raw/b0ee88af4ac177966c8858d14df13f041d373c8a',\n",
       "  '/Users/sbristol/data/raw/66eee8ffc27aca8e1ddaa90828e2a858df75f052',\n",
       "  '/Users/sbristol/data/raw/1b68600f3bfa632a78a8d93aaee69e36e42004b5',\n",
       "  '/Users/sbristol/data/raw/fd74fe3e971aec33e412138d535366c1c5f1bb12',\n",
       "  '/Users/sbristol/data/raw/f9f834f4d23a6eebc9d61e59d30dc7a135337426',\n",
       "  '/Users/sbristol/data/raw/57eb41d96b62f49cfe1c88d4148ebe4fd50803f3',\n",
       "  '/Users/sbristol/data/raw/9188383f3391b3ca4bf443dc6da66a958db06fff',\n",
       "  '/Users/sbristol/data/raw/4ad3472a06c09631dbf539a27c71d31faa6a028c',\n",
       "  '/Users/sbristol/data/raw/f0e8d72efeca0aa6eabb7531a98ff29bf6602c65',\n",
       "  '/Users/sbristol/data/raw/aecad6f21ca891a01eb1bf7f59f2d98825fa5a6a',\n",
       "  '/Users/sbristol/data/raw/8f54fdfb37fa8c0c626a039fcfa8a74f3af42190',\n",
       "  '/Users/sbristol/data/raw/2ccf7762967ab583506b8ba3f5820bb1d5bef56e',\n",
       "  '/Users/sbristol/data/raw/02060b83251a894aede513060881bd10ccdffd91',\n",
       "  '/Users/sbristol/data/raw/088a5437167bb5af928e9a631b54bc853424fa08',\n",
       "  '/Users/sbristol/data/raw/a4c527cd5f37efe0ba5d3dc9fadb6db88ff302ab',\n",
       "  '/Users/sbristol/data/raw/9e25a2d1b2fcb451a83d381455a39c3ebb9da46e',\n",
       "  '/Users/sbristol/data/raw/1eaed1a6601c31dc9017adb86a12ec2251b62199',\n",
       "  '/Users/sbristol/data/raw/aec3f6aff7a9913838126bc59a4f1f1f56333df7',\n",
       "  '/Users/sbristol/data/raw/a1fed40ca4a4f5bf857184e6395297777d4a908d',\n",
       "  '/Users/sbristol/data/raw/4123def2b38f3b805db5811698aa9deb255de7ee',\n",
       "  '/Users/sbristol/data/raw/977f335ae8eb43757808072c7d4c8b59a2ff24b8',\n",
       "  '/Users/sbristol/data/raw/278531c52797f807fb05e9114e7a018f983389e4',\n",
       "  '/Users/sbristol/data/raw/d25a051e0e436ce9c991dc8e8daecd06b04265f4',\n",
       "  '/Users/sbristol/data/raw/7e8dff80cf1aa48cf02a7627e24eefd0b0224564',\n",
       "  '/Users/sbristol/data/raw/82a3c421ae3b76f7b24e8c9e390ec1c0f292dde6',\n",
       "  '/Users/sbristol/data/raw/16dc613189d39ef8b0f9f316d582f4274fe66e16',\n",
       "  '/Users/sbristol/data/raw/715328798b58555ed03c0d3f7a420f44e62dc006',\n",
       "  '/Users/sbristol/data/raw/6c4756747d60a128be28269d4eea464172e1e5dd',\n",
       "  '/Users/sbristol/data/raw/231095576e371c4402906c00068a0e4ccc40c841',\n",
       "  '/Users/sbristol/data/raw/53455a79a1d23584d139dc6dc606900e1d8ad1b5',\n",
       "  '/Users/sbristol/data/raw/59424c732e48c3f8a9c73e3fe73f4320b5bf0513',\n",
       "  '/Users/sbristol/data/raw/4c3301a7d29ee3bfd35eb18562842d5d7cdf813d',\n",
       "  '/Users/sbristol/data/raw/69a446c860659a59f007642a9d8ec18e471e9484',\n",
       "  '/Users/sbristol/data/raw/e708c73cc5d177c1f285d56818fd7176f1a537d1',\n",
       "  '/Users/sbristol/data/raw/6f593470ad383398766d964529151088f1e8d119',\n",
       "  '/Users/sbristol/data/raw/4b725e9ec6218adea417e8079a17f66042b35e79',\n",
       "  '/Users/sbristol/data/raw/76b0bc4ec18db4211acb284155127143fa4e216c',\n",
       "  '/Users/sbristol/data/raw/3879abb46d97eaf9719e76dfaeb71a129e98fda8',\n",
       "  '/Users/sbristol/data/raw/172e62929ef9af97658e4d8d7dc33246959b7d2b',\n",
       "  '/Users/sbristol/data/raw/59ac3f2e992076c5eb6b9d9bf28e10768d81b327',\n",
       "  '/Users/sbristol/data/raw/0135bd12fc8edfb598061262f60b503dbf817065',\n",
       "  '/Users/sbristol/data/raw/62f4c47ef30b65c4046e36264949bc07f02454ad',\n",
       "  '/Users/sbristol/data/raw/d90b7bfa560167a0fdbfdbcfbdf95a8b699a2495',\n",
       "  '/Users/sbristol/data/raw/90d4bfab7b1cbd3de717ba4944180be3be5cd72c',\n",
       "  '/Users/sbristol/data/raw/8dfb6409b842d888d6710528fb9c54398d26b160',\n",
       "  '/Users/sbristol/data/raw/f5bed672813b57b5ef6e9141dd6e0e408187d927',\n",
       "  '/Users/sbristol/data/raw/27fcc6fa1e21a757837ee1b7fb371712b42ffe05',\n",
       "  '/Users/sbristol/data/raw/7085572384eff4f78f8b3705aa3f9159ccfc2734',\n",
       "  '/Users/sbristol/data/raw/8cd109a87494b76c07790e0d666bb4954037814f',\n",
       "  '/Users/sbristol/data/raw/b21fd7323fa0cacc2b9bbdaf075185a98cdd7b23',\n",
       "  '/Users/sbristol/data/raw/5348dd9b01788b69fab5e77b545534eb05f4011d',\n",
       "  '/Users/sbristol/data/raw/4cad93ce4e9415389535d583abf15dcb541572f9',\n",
       "  '/Users/sbristol/data/raw/dcebbbaa32a512988269663509df8d5c221cb7a0',\n",
       "  '/Users/sbristol/data/raw/5a9f38dc875f7808a1e816a6c355c8e326f22f5c',\n",
       "  '/Users/sbristol/data/raw/e168917225b2df530af6c91c23e568d1530fcd87',\n",
       "  '/Users/sbristol/data/raw/f3b74c4b630647793c8f828d6a165d730553ffff',\n",
       "  '/Users/sbristol/data/raw/d1c5ad7fdc0b1a242cb0f0e8b2573ff670a86cf1',\n",
       "  '/Users/sbristol/data/raw/0d84e7a2ded672b1b02d09f734a4329e032e9f15',\n",
       "  '/Users/sbristol/data/raw/db9a7396779821cbad0b0fde45279e5ce35618e5',\n",
       "  '/Users/sbristol/data/raw/ff202a60d841aa549ddf8c945d7608194ca70889',\n",
       "  '/Users/sbristol/data/raw/21adc4b135040702505a75632c94d0638e18f060',\n",
       "  '/Users/sbristol/data/raw/c833fe0a8598aff1058e361299ae0278f8623cc0',\n",
       "  '/Users/sbristol/data/raw/6c99913cb6110a09a064d09a50a204355d0d6a6d',\n",
       "  '/Users/sbristol/data/raw/9a5f100ac8210e27805dbe32f56a532bc3e96f57',\n",
       "  '/Users/sbristol/data/raw/88fa921544398bdde6a1468ac0df238ad5c34ca6',\n",
       "  '/Users/sbristol/data/raw/4e6055617dafa823559ef2ad9056f547328a96f5',\n",
       "  '/Users/sbristol/data/raw/77136909be746bbc4af21c741d3ff2a8cc93dea5',\n",
       "  '/Users/sbristol/data/raw/4ee11a9c6434275a9408dc141959027edcd376ff',\n",
       "  '/Users/sbristol/data/raw/b0964ce7d42bc471df348d3a2a5d4d70fb27ed36',\n",
       "  '/Users/sbristol/data/raw/3aeaaee51b507cacf56bae1a8ed69775fcbcc87f',\n",
       "  '/Users/sbristol/data/raw/e749d234f006e41ce14d6629b2c2fa213838c4fe',\n",
       "  '/Users/sbristol/data/raw/cd7db80d85c83467e984ea7d56b9e0ccbdac569e',\n",
       "  '/Users/sbristol/data/raw/081a86e27de199cf064f226ea730def58989f996',\n",
       "  '/Users/sbristol/data/raw/0d79bcd038709fdf37113683367fb3b541fb806d',\n",
       "  '/Users/sbristol/data/raw/e809817fe4c77d4447760111dea2d9684e5609b3',\n",
       "  '/Users/sbristol/data/raw/15537d64ec1dbbf7734998de3ff71974552be381',\n",
       "  '/Users/sbristol/data/raw/9f84b48f4b07d9323b778c9bbbc216ffc66d8ef2',\n",
       "  '/Users/sbristol/data/raw/3528e85a72a6f516678c70492f057bf6137380e3',\n",
       "  '/Users/sbristol/data/raw/87dd0126c505fb3fd309f9eccc23252f4bba2371',\n",
       "  '/Users/sbristol/data/raw/6cfee06a64853f71ddd407323229cf5b8b3cd7b3',\n",
       "  '/Users/sbristol/data/raw/f699dccf4d649d201fa4f3d1db33e5df6cd0a457',\n",
       "  '/Users/sbristol/data/raw/1416237ef30589e24f2ab3dee77f794d92b04f04',\n",
       "  '/Users/sbristol/data/raw/02495e011afae6490d0c5f9ad2f377171580d93c',\n",
       "  '/Users/sbristol/data/raw/e30d16fe69b90b8cd5c14298859f7c47084f4e37',\n",
       "  '/Users/sbristol/data/raw/39ecd20f3179b9a5671812a1bf8a83b888e0689e',\n",
       "  '/Users/sbristol/data/raw/174ae94c44b3bb7c74af2e996447e9808fdfa551',\n",
       "  '/Users/sbristol/data/raw/8d4b371f5b577794846ce6aaf9665fc6787010ea',\n",
       "  '/Users/sbristol/data/raw/599cda8ab364ef3f55b7ee12cfabc47cd4313330',\n",
       "  '/Users/sbristol/data/raw/7947f536a21bf6c2045e93bca54bf2dba95da896',\n",
       "  '/Users/sbristol/data/raw/5254704de4798497eca2f42f42ecce9d224a9a98',\n",
       "  '/Users/sbristol/data/raw/b7fc66154a7292cf697957d4203ba510f829030d',\n",
       "  '/Users/sbristol/data/raw/564b7f44f53ad67e61fe07846b4ee1fb736d65df',\n",
       "  '/Users/sbristol/data/raw/7bc1f3d0fd1e28271af8e6a576f06184f13cc788'],\n",
       " 'file_download_errors': []}"
      ]
     },
     "execution_count": 2,
     "metadata": {},
     "output_type": "execute_result"
    }
   ],
   "source": [
    "sgcn.cache_raw_data()"
   ]
  },
  {
   "cell_type": "code",
   "execution_count": 3,
   "metadata": {},
   "outputs": [
    {
     "data": {
      "text/plain": [
       "{'id': '50394f41e31de134720d2388035db965f4f6f8cf',\n",
       " 'date_inserted': '2019-12-20T20:26:44.085406',\n",
       " 'body': {'sciencebase_item_id': 'https://www.sciencebase.gov/catalog/item/5787cd0ae4b0d27deb3754f2',\n",
       "  'state': 'Louisiana',\n",
       "  'year': '2005',\n",
       "  'source_file_url': 'https://www.sciencebase.gov/catalog/file/get/5787cd0ae4b0d27deb3754f2?f=__disk__b4%2Fae%2Fbf%2Fb4aebf82009a2aaadaa4d7b84fdcade7589c722b',\n",
       "  'source_file_date': '2016-07-14T17:33:42.000Z'}}"
      ]
     },
     "execution_count": 3,
     "metadata": {},
     "output_type": "execute_result"
    }
   ],
   "source": [
    "processable_item = sgcn.get_message(\"mq_sgcn_items\")\n",
    "processable_item"
   ]
  },
  {
   "cell_type": "code",
   "execution_count": 4,
   "metadata": {},
   "outputs": [
    {
     "name": "stdout",
     "output_type": "stream",
     "text": [
      "CPU times: user 2min 14s, sys: 1min 59s, total: 4min 14s\n",
      "Wall time: 6min 35s\n"
     ]
    }
   ],
   "source": [
    "%%time\n",
    "while processable_item is not None:\n",
    "    sgcn.cache_item_data(processable_item[\"body\"])\n",
    "    sgcn.delete_message(\"mq_sgcn_items\", processable_item[\"id\"])\n",
    "    processable_item = sgcn.get_message(\"mq_sgcn_items\")"
   ]
  },
  {
   "cell_type": "code",
   "execution_count": null,
   "metadata": {},
   "outputs": [],
   "source": []
  }
 ],
 "metadata": {
  "kernelspec": {
   "display_name": "Python 3",
   "language": "python",
   "name": "python3"
  },
  "language_info": {
   "codemirror_mode": {
    "name": "ipython",
    "version": 3
   },
   "file_extension": ".py",
   "mimetype": "text/x-python",
   "name": "python",
   "nbconvert_exporter": "python",
   "pygments_lexer": "ipython3",
   "version": "3.7.5"
  }
 },
 "nbformat": 4,
 "nbformat_minor": 2
}
