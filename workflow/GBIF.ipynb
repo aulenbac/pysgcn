{
 "cells": [
  {
   "cell_type": "markdown",
   "metadata": {},
   "source": [
    "GBIF processing follows the same pattern as all of the other SppIn information gatherers. Running locally, I pull all messages and then process them in parallel at a rate that should not break anything. When running in a lambda environment, we will need to similarly throttle the number of concurrent connections we send to the GBIF API."
   ]
  },
  {
   "cell_type": "code",
   "execution_count": 1,
   "metadata": {},
   "outputs": [],
   "source": [
    "import pysgcn\n",
    "sgcn = pysgcn.sgcn.Sgcn()\n",
    "\n",
    "from joblib import Parallel, delayed\n",
    "from tqdm import tqdm\n",
    "\n",
    "mq = \"mq_gbif_check\"\n",
    "sppin_source = \"gbif\""
   ]
  },
  {
   "cell_type": "code",
   "execution_count": 2,
   "metadata": {},
   "outputs": [
    {
     "name": "stdout",
     "output_type": "stream",
     "text": [
      "40194\n"
     ]
    },
    {
     "data": {
      "text/plain": [
       "{'id': 'a32f53b70969891865c15889268f1d4bb9804053',\n",
       " 'date_inserted': '2019-12-19T13:22:10.094838',\n",
       " 'body': {'source': {'type': 'List of Scientific Names',\n",
       "   'name_source': 'ITIS Search'},\n",
       "  'sppin_key': 'Scientific Name:Polyodon spathula'}}"
      ]
     },
     "execution_count": 2,
     "metadata": {},
     "output_type": "execute_result"
    }
   ],
   "source": [
    "messages = sgcn.sql_mq.get_all_records(\"mq\", mq)\n",
    "print(len(messages))\n",
    "messages[99]"
   ]
  },
  {
   "cell_type": "code",
   "execution_count": null,
   "metadata": {},
   "outputs": [],
   "source": [
    "%%time\n",
    "Parallel(n_jobs=8, prefer=\"threads\")(\n",
    "    delayed(sgcn.process_sppin_source_search_term)\n",
    "    (\n",
    "        message_queue=mq,\n",
    "        sppin_source=sppin_source,\n",
    "        message_id=message[\"id\"], \n",
    "        message_body=message[\"body\"]\n",
    "    ) for message in tqdm(messages)\n",
    ")"
   ]
  },
  {
   "cell_type": "code",
   "execution_count": null,
   "metadata": {},
   "outputs": [],
   "source": []
  }
 ],
 "metadata": {
  "kernelspec": {
   "display_name": "Python 3",
   "language": "python",
   "name": "python3"
  },
  "language_info": {
   "codemirror_mode": {
    "name": "ipython",
    "version": 3
   },
   "file_extension": ".py",
   "mimetype": "text/x-python",
   "name": "python",
   "nbconvert_exporter": "python",
   "pygments_lexer": "ipython3",
   "version": "3.7.5"
  }
 },
 "nbformat": 4,
 "nbformat_minor": 2
}
