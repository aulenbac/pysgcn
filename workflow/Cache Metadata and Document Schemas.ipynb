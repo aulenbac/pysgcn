{
 "cells": [
  {
   "cell_type": "markdown",
   "metadata": {},
   "source": [
    "# Pipeline Stage 2\n",
    "There are a number of files used to help manage the data synthesis process for SGCN species that are stored with the root collection item in ScienceBase. This notebook is used to cache the files for processing, but was also used initially to help document those data objects for further reference and validation with JSON schema.\n",
    "\n",
    "I added a return_data method fo the cache_sgcn_metadata() function in the pysgcn package that handles the process of grabing up and caching the additional metadata files from the SGCN collection item so that it could return the actual data from those files for building schema documentation. I added a build_definitions parameter to the generate_json_schema() function in the pySppIn utils module that triggers an input process during schema generation to prompt for titles and descriptions on the schema itself and each property in the schema. By looping over the individual metadata files and firing the schema generation function with this parameter, we can actively provide a little bit of additional documentation that provides essentially entity/attribute metadata for the package. I then dumped those schema documents to files for later reference in data validation steps.\n",
    "\n",
    "Right now, the generate_json_schema() function will work for relatively simple cases like these where we essentially just have tables of attributes and values to work with. It will not yet work for more complex nested data structures. I added the functions for working with schemas to pySppIn because they will apply to other cases well beyond the SGCN, but we will ultimately want to either contribute code to some other project or build out a more general data management package."
   ]
  },
  {
   "cell_type": "code",
   "execution_count": 1,
   "metadata": {},
   "outputs": [],
   "source": [
    "import pysgcn\n",
    "sgcn = pysgcn.sgcn.Sgcn()\n",
    "from IPython.display import display\n",
    "import json\n",
    "\n",
    "import pysppin\n",
    "pysppin_utils = pysppin.utils.Utils()"
   ]
  },
  {
   "cell_type": "code",
   "execution_count": 2,
   "metadata": {},
   "outputs": [],
   "source": [
    "sgcn_meta = sgcn.cache_sgcn_metadata(return_data=True)"
   ]
  },
  {
   "cell_type": "code",
   "execution_count": 3,
   "metadata": {},
   "outputs": [
    {
     "name": "stdout",
     "output_type": "stream",
     "text": [
      "Historic 2005 SWAP National List\n"
     ]
    },
    {
     "data": {
      "text/plain": [
       "{'scientific_name': '?Agastoschizomus n.sp.'}"
      ]
     },
     "metadata": {},
     "output_type": "display_data"
    },
    {
     "name": "stdout",
     "output_type": "stream",
     "text": [
      "schema title: Historic 2005 SWAP National List\n",
      "schema description: List of scientific names extracted from the original State Wildlife Action Plans used for historical purposes to identify species that were on the 2005 National List\n",
      "title for scientific_name: Scientific Name\n",
      "description for scientific_name: Scientific name used in the 2005 National List\n",
      "SGCN ITIS Overrides\n"
     ]
    },
    {
     "data": {
      "text/plain": [
       "{'ScientificName_original': 'Vermiforma pinus',\n",
       " 'taxonomicAuthorityID': 'http://services.itis.gov/?q=tsn:950011'}"
      ]
     },
     "metadata": {},
     "output_type": "display_data"
    },
    {
     "name": "stdout",
     "output_type": "stream",
     "text": [
      "schema title: SGCN ITIS Overrides\n",
      "schema description: Scientific names linked to ITIS Taxonomic Serial Numbers by hand used to compensate for insufficient name matches\n",
      "title for ScientificName_original: Original Scientific Name\n",
      "description for ScientificName_original: Scientific name string supplied in the state/territory submissions\n",
      "title for taxonomicAuthorityID: Taxonomic Authority ID\n",
      "description for taxonomicAuthorityID: Identifier in URL form for the ITIS Taxonomic Serial Number\n",
      "Taxonomic Group Mappings\n"
     ]
    },
    {
     "data": {
      "text/plain": [
       "{'name': 'Amphibia', 'rank': 'Class', 'sgcntaxonomicgroup': 'Amphibians'}"
      ]
     },
     "metadata": {},
     "output_type": "display_data"
    },
    {
     "name": "stdout",
     "output_type": "stream",
     "text": [
      "schema title: Taxonomic Group Mappings\n",
      "schema description: Set of logical mappings from names in the taxonomic hierarchy to logical taxa groups used in the SGCN\n",
      "title for name: Name\n",
      "description for name: Name at taxonomic rank\n",
      "title for rank: Rank\n",
      "description for rank: Taxonomic rank from ITIS or WoRMS\n",
      "title for sgcntaxonomicgroup: SGCN Taxonomic Group\n",
      "description for sgcntaxonomicgroup: Logical taxa group name used in the SGCN\n",
      "Hierarchy for FWS Listing Status\n"
     ]
    },
    {
     "data": {
      "text/plain": [
       "{'status': 'Endangered', 'abb': 'E', 'order': '1'}"
      ]
     },
     "metadata": {},
     "output_type": "display_data"
    },
    {
     "name": "stdout",
     "output_type": "stream",
     "text": [
      "schema title: Hierarchy for FWS Listing Status\n",
      "schema description: Ordered hierarchy for determining the listing status to display for species found on the FWS List of Threatened and Endangered species to account for cases where there are multiple listing statuses for a given species\n",
      "title for status: Status\n",
      "description for status: Full name of listing status designation\n",
      "title for abb: Abbreviation\n",
      "description for abb: Abbreviated listing status\n",
      "title for order: Order\n",
      "description for order: Numeric order for selecting a single listing status to display\n",
      "NatureServe National Conservation Status Descriptions\n"
     ]
    },
    {
     "data": {
      "text/plain": [
       "{'code': 'NNR', 'definition': 'Unranked'}"
      ]
     },
     "metadata": {},
     "output_type": "display_data"
    },
    {
     "name": "stdout",
     "output_type": "stream",
     "text": [
      "schema title: NatureServe National Conservation Status Descriptions\n",
      "schema description: Mappings of NatureServe National Conservation Status codes to descriptions\n",
      "title for code: Code\n",
      "description for code: NatureServe National Conservation Status code\n",
      "title for definition: NatureServe National Conservation Status description\n",
      "description for definition: NatureServe National Conservation Status definition\n",
      "Fish and Wildlife Service Endangered Species Program Species Status Codes\n"
     ]
    },
    {
     "data": {
      "text/plain": [
       "{'tess_code': 'Endangered',\n",
       " 'definition': 'A species in danger of extinction throughout all or a significant portion of its range.'}"
      ]
     },
     "metadata": {},
     "output_type": "display_data"
    },
    {
     "name": "stdout",
     "output_type": "stream",
     "text": [
      "schema title: Fish and Wildlife Service Endangered Species Program Species Status Codes\n",
      "schema description: Definitions of FWS listing status designations\n",
      "title for tess_code: TESS Code\n",
      "description for tess_code: Listing status designation code used in the FWS Ecological Conservation Online System\n",
      "title for definition: Definition\n",
      "description for definition: Full description of the listing status code\n"
     ]
    }
   ],
   "source": [
    "for meta_file in sgcn_meta.items():\n",
    "    print(meta_file[0])\n",
    "    display(meta_file[1][0])\n",
    "    schema = json.loads(pysppin_utils.generate_json_schema(meta_file[1], build_definitions=True))\n",
    "    with open(f\"{meta_file[0].replace(' ','_')}_schema.json\", \"w\") as f:\n",
    "        json.dump(schema, f)\n",
    "        f.close()"
   ]
  },
  {
   "cell_type": "code",
   "execution_count": null,
   "metadata": {},
   "outputs": [],
   "source": []
  }
 ],
 "metadata": {
  "kernelspec": {
   "display_name": "Python 3",
   "language": "python",
   "name": "python3"
  },
  "language_info": {
   "codemirror_mode": {
    "name": "ipython",
    "version": 3
   },
   "file_extension": ".py",
   "mimetype": "text/x-python",
   "name": "python",
   "nbconvert_exporter": "python",
   "pygments_lexer": "ipython3",
   "version": "3.7.5"
  }
 },
 "nbformat": 4,
 "nbformat_minor": 2
}
