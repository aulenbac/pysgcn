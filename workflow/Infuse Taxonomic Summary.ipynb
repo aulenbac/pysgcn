{
 "cells": [
  {
   "cell_type": "markdown",
   "metadata": {},
   "source": [
    "One of the main functions of the SGCN synthesis process is to conduct taxonomic matching on submitted names to determine when states are listing the same species even when they may refer to a different name. This process creates what we have referred to as the \"SGCN National List,\" essentially any species that has been successfully matched to either ITIS or WoRMS as taxonomic authorities.\n",
    "\n",
    "The processors for ITIS and WoRMS take any valid record from the matching process, summarize a few specific properties, and send those to a message queue for processing here. "
   ]
  },
  {
   "cell_type": "code",
   "execution_count": 1,
   "metadata": {},
   "outputs": [],
   "source": [
    "import pysgcn\n",
    "sgcn = pysgcn.sgcn.Sgcn()"
   ]
  },
  {
   "cell_type": "code",
   "execution_count": 2,
   "metadata": {},
   "outputs": [
    {
     "data": {
      "text/plain": [
       "{'id': 'a930ad142c0e24a3feb47b81ad04be029f5680c5',\n",
       " 'date_inserted': '2019-12-23T14:09:19.939166',\n",
       " 'body': {'scientificname': 'Graptemys ouachitensis ouachitensis',\n",
       "  'taxonomicrank': 'Subspecies',\n",
       "  'taxonomic_authority_url': 'https://www.itis.gov/servlet/SingleRpt/SingleRpt?search_topic=TSN&search_value=914050',\n",
       "  'match_method': 'Exact Match',\n",
       "  'commonname': 'Ouachita Map Turtle',\n",
       "  'sppin_key': 'Scientific Name:Graptemys ouachitensis ouachitensis'}}"
      ]
     },
     "execution_count": 2,
     "metadata": {},
     "output_type": "execute_result"
    }
   ],
   "source": [
    "processable_item = sgcn.get_message(\"mq_taxa_summary\")\n",
    "processable_item"
   ]
  },
  {
   "cell_type": "code",
   "execution_count": 3,
   "metadata": {},
   "outputs": [
    {
     "name": "stdout",
     "output_type": "stream",
     "text": [
      "CPU times: user 3min 16s, sys: 3min 33s, total: 6min 49s\n",
      "Wall time: 7min 37s\n"
     ]
    }
   ],
   "source": [
    "%%time\n",
    "while processable_item is not None:\n",
    "    sgcn.update_taxa_summary_data(\n",
    "        processable_item[\"body\"][\"sppin_key\"],\n",
    "        processable_item[\"body\"]\n",
    "    )\n",
    "    sgcn.delete_message(\"mq_taxa_summary\", processable_item[\"id\"])\n",
    "    processable_item = sgcn.get_message(\"mq_taxa_summary\")"
   ]
  },
  {
   "cell_type": "code",
   "execution_count": null,
   "metadata": {},
   "outputs": [],
   "source": []
  }
 ],
 "metadata": {
  "kernelspec": {
   "display_name": "Python 3",
   "language": "python",
   "name": "python3"
  },
  "language_info": {
   "codemirror_mode": {
    "name": "ipython",
    "version": 3
   },
   "file_extension": ".py",
   "mimetype": "text/x-python",
   "name": "python",
   "nbconvert_exporter": "python",
   "pygments_lexer": "ipython3",
   "version": "3.7.5"
  }
 },
 "nbformat": 4,
 "nbformat_minor": 2
}
