{
 "cells": [
  {
   "cell_type": "markdown",
   "metadata": {},
   "source": [
    "ECOS TESS processing follows the same pattern as all of the other SppIn information gatherers. Running locally, I pull all messages and then process them in parallel at a rate that should not break anything. When running in a lambda environment, we will need to similarly throttle the number of concurrent connections we send to the ECOS API.\n",
    "\n",
    "This process requires a local token variable to be set as it uses an API key connection to the IUCN Red List API. "
   ]
  },
  {
   "cell_type": "code",
   "execution_count": 1,
   "metadata": {},
   "outputs": [],
   "source": [
    "import pysgcn\n",
    "sgcn = pysgcn.sgcn.Sgcn()\n",
    "\n",
    "from joblib import Parallel, delayed\n",
    "from tqdm import tqdm\n",
    "\n",
    "mq = \"mq_ecos_check\"\n",
    "sppin_source = \"ecos\""
   ]
  },
  {
   "cell_type": "code",
   "execution_count": 2,
   "metadata": {},
   "outputs": [
    {
     "name": "stdout",
     "output_type": "stream",
     "text": [
      "37617\n"
     ]
    },
    {
     "data": {
      "text/plain": [
       "{'id': '0a39a3a7683b4511e9c770818484f915f3beba8f',\n",
       " 'date_inserted': '2019-12-19T13:22:10.017916',\n",
       " 'body': {'source': {'type': 'List of Scientific Names',\n",
       "   'name_source': 'ITIS Search'},\n",
       "  'sppin_key': 'Scientific Name:Pseudotriton montanus flavissimus'}}"
      ]
     },
     "execution_count": 2,
     "metadata": {},
     "output_type": "execute_result"
    }
   ],
   "source": [
    "messages = sgcn.sql_mq.get_all_records(\"mq\", mq)\n",
    "print(len(messages))\n",
    "messages[99]"
   ]
  },
  {
   "cell_type": "code",
   "execution_count": null,
   "metadata": {},
   "outputs": [],
   "source": [
    "%%time\n",
    "Parallel(n_jobs=8, prefer=\"threads\")(\n",
    "    delayed(sgcn.process_sppin_source_search_term)\n",
    "    (\n",
    "        message_queue=mq,\n",
    "        sppin_source=sppin_source,\n",
    "        message_id=message[\"id\"], \n",
    "        message_body=message[\"body\"]\n",
    "    ) for message in tqdm(messages)\n",
    ")"
   ]
  },
  {
   "cell_type": "code",
   "execution_count": null,
   "metadata": {},
   "outputs": [],
   "source": []
  }
 ],
 "metadata": {
  "kernelspec": {
   "display_name": "Python 3",
   "language": "python",
   "name": "python3"
  },
  "language_info": {
   "codemirror_mode": {
    "name": "ipython",
    "version": 3
   },
   "file_extension": ".py",
   "mimetype": "text/x-python",
   "name": "python",
   "nbconvert_exporter": "python",
   "pygments_lexer": "ipython3",
   "version": "3.7.5"
  }
 },
 "nbformat": 4,
 "nbformat_minor": 2
}
